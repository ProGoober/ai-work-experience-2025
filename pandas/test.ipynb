{
 "cells": [
  {
   "cell_type": "code",
   "execution_count": null,
   "id": "efb5b6fd",
   "metadata": {},
   "outputs": [
    {
     "name": "stdout",
     "output_type": "stream",
     "text": [
      "<class 'numpy.ndarray'>\n",
      "[2 4 0 8]\n",
      "[4 6 7 5]\n"
     ]
    }
   ],
   "source": [
    "import numpy as np\n",
    "v = [1,2,0,4]\n",
    "v2 = np.array(v)\n",
    "print(type(v2))\n",
    "print(v2 *2)\n",
    "\n",
    "y = [3,4,7,1]\n",
    "y2 = np.array(y)\n",
    "sum = v2+y2\n"
   ]
  },
  {
   "cell_type": "code",
   "execution_count": null,
   "id": "1e1a644d",
   "metadata": {},
   "outputs": [
    {
     "data": {
      "text/plain": [
       "array([37, 25, 54, 44, 39])"
      ]
     },
     "execution_count": 26,
     "metadata": {},
     "output_type": "execute_result"
    }
   ],
   "source": [
    "m= np.random.randint(10(5,4))\n",
    "np.matmul(m, v2)\n",
    "\n"
   ]
  }
 ],
 "metadata": {
  "kernelspec": {
   "display_name": "Python 3",
   "language": "python",
   "name": "python3"
  },
  "language_info": {
   "codemirror_mode": {
    "name": "ipython",
    "version": 3
   },
   "file_extension": ".py",
   "mimetype": "text/x-python",
   "name": "python",
   "nbconvert_exporter": "python",
   "pygments_lexer": "ipython3",
   "version": "3.13.5"
  }
 },
 "nbformat": 4,
 "nbformat_minor": 5
}
